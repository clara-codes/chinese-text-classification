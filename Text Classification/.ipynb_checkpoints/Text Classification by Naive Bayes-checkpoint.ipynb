{
 "cells": [
  {
   "cell_type": "code",
   "execution_count": 1,
   "metadata": {},
   "outputs": [],
   "source": [
    "import pandas as pd\n",
    "import numpy as np"
   ]
  },
  {
   "cell_type": "code",
   "execution_count": 2,
   "metadata": {},
   "outputs": [],
   "source": [
    "train_set = pd.read_pickle('train_set.pkl')\n",
    "strat_train_set = pd.read_pickle('strat_train_set.pkl')\n",
    "strat_test_set = pd.read_pickle('strat_test_set.pkl')\n",
    "strat_valid_set = pd.read_pickle('strat_valid_set.pkl')"
   ]
  },
  {
   "cell_type": "markdown",
   "metadata": {},
   "source": [
    "### [Test] Sample to class ratios 1:1:1"
   ]
  },
  {
   "cell_type": "code",
   "execution_count": 34,
   "metadata": {},
   "outputs": [
    {
     "data": {
      "text/plain": [
       "(2    1274\n",
       " 0     557\n",
       " 1     505\n",
       " Name: tags_id, dtype: int64, 505)"
      ]
     },
     "execution_count": 34,
     "metadata": {},
     "output_type": "execute_result"
    }
   ],
   "source": [
    "min_tag_count = strat_train_set['tags_id'].value_counts().min()\n",
    "\n",
    "strat_train_set['tags_id'].value_counts(), min_tag_count"
   ]
  },
  {
   "cell_type": "code",
   "execution_count": 35,
   "metadata": {},
   "outputs": [
    {
     "data": {
      "text/plain": [
       "1274"
      ]
     },
     "execution_count": 35,
     "metadata": {},
     "output_type": "execute_result"
    }
   ],
   "source": [
    "strat_train_set['tags_id'].value_counts()[2]"
   ]
  },
  {
   "cell_type": "code",
   "execution_count": 36,
   "metadata": {},
   "outputs": [],
   "source": [
    "np.random.seed(10)\n",
    "\n",
    "def balance_tag_counts(tag, df):\n",
    "    remove_n = df['tags_id'].value_counts()[tag] - min_tag_count\n",
    "    drop_indices = np.random.choice(df[df['tags_id'] == tag].index, remove_n, replace=False)\n",
    "    df = df.drop(drop_indices)\n",
    "    return df"
   ]
  },
  {
   "cell_type": "code",
   "execution_count": 37,
   "metadata": {},
   "outputs": [
    {
     "name": "stdout",
     "output_type": "stream",
     "text": [
      "(2336, 6)\n",
      "(1567, 6)\n",
      "(1567, 6)\n"
     ]
    },
    {
     "data": {
      "text/plain": [
       "(1515, 6)"
      ]
     },
     "execution_count": 37,
     "metadata": {},
     "output_type": "execute_result"
    }
   ],
   "source": [
    "print(strat_train_set.shape)\n",
    "strat_train_set = balance_tag_counts(2, strat_train_set)\n",
    "print(strat_train_set.shape)\n",
    "strat_train_set = balance_tag_counts(1, strat_train_set)\n",
    "print(strat_train_set.shape)\n",
    "strat_train_set = balance_tag_counts(0, strat_train_set)\n",
    "strat_train_set.shape"
   ]
  },
  {
   "cell_type": "code",
   "execution_count": 91,
   "metadata": {},
   "outputs": [
    {
     "data": {
      "text/plain": [
       "2    1274\n",
       "0     557\n",
       "1     505\n",
       "Name: tags_id, dtype: int64"
      ]
     },
     "execution_count": 91,
     "metadata": {},
     "output_type": "execute_result"
    }
   ],
   "source": [
    "strat_train_set['tags_id'].value_counts()"
   ]
  },
  {
   "cell_type": "markdown",
   "metadata": {},
   "source": [
    "### Vectorize input"
   ]
  },
  {
   "cell_type": "code",
   "execution_count": 3,
   "metadata": {},
   "outputs": [],
   "source": [
    "from sklearn.feature_extraction.text import TfidfVectorizer"
   ]
  },
  {
   "cell_type": "code",
   "execution_count": 4,
   "metadata": {},
   "outputs": [],
   "source": [
    "def identity_tokenizer(text):\n",
    "    return text\n",
    "\n",
    "tfidf = TfidfVectorizer(tokenizer=identity_tokenizer, lowercase=False, min_df=0.05, max_df=0.8) \n",
    "tfidf_char = TfidfVectorizer(lowercase=False, min_df=0.05, max_df=0.8, analyzer='char', ngram_range=(2,4))\n",
    "#tfidf = tfidf.fit(train_set['segmented'].values)"
   ]
  },
  {
   "cell_type": "markdown",
   "metadata": {},
   "source": [
    "# Pipeline and Select a Model"
   ]
  },
  {
   "cell_type": "code",
   "execution_count": 5,
   "metadata": {},
   "outputs": [],
   "source": [
    "from sklearn.pipeline import Pipeline\n",
    "from sklearn.model_selection import GridSearchCV"
   ]
  },
  {
   "cell_type": "markdown",
   "metadata": {},
   "source": [
    "### Multinominal Naive Bayes Classifier"
   ]
  },
  {
   "cell_type": "code",
   "execution_count": 6,
   "metadata": {},
   "outputs": [],
   "source": [
    "from sklearn.naive_bayes import MultinomialNB\n",
    "from sklearn.model_selection import cross_val_score"
   ]
  },
  {
   "cell_type": "code",
   "execution_count": 7,
   "metadata": {},
   "outputs": [],
   "source": [
    "mnb = MultinomialNB()"
   ]
  },
  {
   "cell_type": "code",
   "execution_count": 8,
   "metadata": {},
   "outputs": [],
   "source": [
    "mnb_pipe = Pipeline(\n",
    "    steps=[('tfidf', tfidf_char), \n",
    "           ('mnb', mnb)]\n",
    ")"
   ]
  },
  {
   "cell_type": "code",
   "execution_count": 9,
   "metadata": {},
   "outputs": [
    {
     "data": {
      "text/plain": [
       "0.9871630295250321"
      ]
     },
     "execution_count": 9,
     "metadata": {},
     "output_type": "execute_result"
    }
   ],
   "source": [
    "mnb_pipe.fit(strat_train_set['cleaned'].values, strat_train_set['tags_id'].values)\\\n",
    ".score(strat_valid_set['cleaned'].values, strat_valid_set['tags_id'].values)"
   ]
  },
  {
   "cell_type": "markdown",
   "metadata": {},
   "source": [
    "### Supper Vector Machines Classifier"
   ]
  },
  {
   "cell_type": "code",
   "execution_count": 10,
   "metadata": {},
   "outputs": [],
   "source": [
    "from sklearn.svm import SVC"
   ]
  },
  {
   "cell_type": "code",
   "execution_count": 11,
   "metadata": {},
   "outputs": [],
   "source": [
    "svc = SVC(gamma='auto')"
   ]
  },
  {
   "cell_type": "code",
   "execution_count": 12,
   "metadata": {},
   "outputs": [],
   "source": [
    "svc_pipe = Pipeline(\n",
    "    steps=[('tfidf', tfidf_char), \n",
    "           ('svc', svc)]\n",
    ")"
   ]
  },
  {
   "cell_type": "code",
   "execution_count": 13,
   "metadata": {},
   "outputs": [
    {
     "data": {
      "text/plain": [
       "0.5442875481386393"
      ]
     },
     "execution_count": 13,
     "metadata": {},
     "output_type": "execute_result"
    }
   ],
   "source": [
    "svc_pipe.fit(strat_train_set['cleaned'].values, strat_train_set['tags_id'].values)\\\n",
    ".score(strat_valid_set['cleaned'].values, strat_valid_set['tags_id'].values)"
   ]
  },
  {
   "cell_type": "markdown",
   "metadata": {},
   "source": [
    "### K-Nearest Neighbors Classifier"
   ]
  },
  {
   "cell_type": "code",
   "execution_count": 14,
   "metadata": {},
   "outputs": [],
   "source": [
    "from sklearn.neighbors import KNeighborsClassifier "
   ]
  },
  {
   "cell_type": "code",
   "execution_count": 46,
   "metadata": {},
   "outputs": [],
   "source": [
    "neigh = KNeighborsClassifier(n_neighbors=3)"
   ]
  },
  {
   "cell_type": "code",
   "execution_count": 47,
   "metadata": {},
   "outputs": [],
   "source": [
    "neigh_pipe = Pipeline(\n",
    "    steps=[('tfidf', tfidf_char), \n",
    "           ('neigh', neigh)]\n",
    ")"
   ]
  },
  {
   "cell_type": "code",
   "execution_count": 17,
   "metadata": {},
   "outputs": [
    {
     "data": {
      "text/plain": [
       "0.9717586649550706"
      ]
     },
     "execution_count": 17,
     "metadata": {},
     "output_type": "execute_result"
    }
   ],
   "source": [
    "neigh_pipe.fit(strat_train_set['cleaned'].values, strat_train_set['tags_id'].values)\\\n",
    ".score(strat_valid_set['cleaned'].values, strat_valid_set['tags_id'].values)"
   ]
  },
  {
   "cell_type": "markdown",
   "metadata": {},
   "source": [
    "# GridSearch"
   ]
  },
  {
   "cell_type": "markdown",
   "metadata": {},
   "source": [
    "GridSearch on MNB and Neigh"
   ]
  },
  {
   "cell_type": "code",
   "execution_count": 25,
   "metadata": {},
   "outputs": [],
   "source": [
    "mnb_parameters = {\n",
    "    'tfidf__max_df': (0.5, 0.75, 1.0),\n",
    "    'tfidf__min_df': (3, 10, 20),\n",
    "    #'tfidf__max_features': (None, 1000, 1500, 2000, 5000),\n",
    "    'tfidf__ngram_range': ((1, 4), (2, 4)),  # unigrams or bigrams\n",
    "    'tfidf__use_idf': (True, False),\n",
    "    #'tfidf__norm': ('l1', 'l2'),\n",
    "}\n",
    "\n",
    "mnb_grid = GridSearchCV(mnb_pipe, mnb_parameters, cv=5,\n",
    "                               n_jobs=-1, verbose=10)"
   ]
  },
  {
   "cell_type": "code",
   "execution_count": 26,
   "metadata": {},
   "outputs": [
    {
     "name": "stdout",
     "output_type": "stream",
     "text": [
      "Fitting 5 folds for each of 36 candidates, totalling 180 fits\n"
     ]
    },
    {
     "name": "stderr",
     "output_type": "stream",
     "text": [
      "[Parallel(n_jobs=-1)]: Using backend LokyBackend with 4 concurrent workers.\n",
      "[Parallel(n_jobs=-1)]: Done   5 tasks      | elapsed:  2.1min\n",
      "[Parallel(n_jobs=-1)]: Done  10 tasks      | elapsed:  3.0min\n",
      "[Parallel(n_jobs=-1)]: Done  17 tasks      | elapsed:  5.2min\n",
      "[Parallel(n_jobs=-1)]: Done  24 tasks      | elapsed:  6.2min\n",
      "[Parallel(n_jobs=-1)]: Done  33 tasks      | elapsed:  9.4min\n",
      "[Parallel(n_jobs=-1)]: Done  42 tasks      | elapsed: 11.3min\n",
      "[Parallel(n_jobs=-1)]: Done  53 tasks      | elapsed: 13.9min\n",
      "[Parallel(n_jobs=-1)]: Done  64 tasks      | elapsed: 15.8min\n",
      "[Parallel(n_jobs=-1)]: Done  77 tasks      | elapsed: 19.2min\n",
      "[Parallel(n_jobs=-1)]: Done  90 tasks      | elapsed: 21.8min\n",
      "[Parallel(n_jobs=-1)]: Done 105 tasks      | elapsed: 26.0min\n",
      "[Parallel(n_jobs=-1)]: Done 120 tasks      | elapsed: 29.0min\n",
      "[Parallel(n_jobs=-1)]: Done 137 tasks      | elapsed: 34.4min\n",
      "[Parallel(n_jobs=-1)]: Done 154 tasks      | elapsed: 38.7min\n",
      "[Parallel(n_jobs=-1)]: Done 173 tasks      | elapsed: 42.9min\n",
      "[Parallel(n_jobs=-1)]: Done 180 out of 180 | elapsed: 43.9min finished\n"
     ]
    },
    {
     "data": {
      "text/plain": [
       "GridSearchCV(cv=5, error_score='raise-deprecating',\n",
       "       estimator=Pipeline(memory=None,\n",
       "     steps=[('tfidf', TfidfVectorizer(analyzer='char', binary=False, decode_error='strict',\n",
       "        dtype=<class 'numpy.float64'>, encoding='utf-8', input='content',\n",
       "        lowercase=False, max_df=0.8, max_features=None, min_df=0.05,\n",
       "        ngram_range=(2, 4), norm='l2', preprocessor=None, smooth_idf=T...rue,\n",
       "        vocabulary=None)), ('mnb', MultinomialNB(alpha=1.0, class_prior=None, fit_prior=True))]),\n",
       "       fit_params=None, iid='warn', n_jobs=-1,\n",
       "       param_grid={'tfidf__max_df': (0.5, 0.75, 1.0), 'tfidf__min_df': (3, 10, 20), 'tfidf__ngram_range': ((1, 4), (2, 4)), 'tfidf__use_idf': (True, False)},\n",
       "       pre_dispatch='2*n_jobs', refit=True, return_train_score='warn',\n",
       "       scoring=None, verbose=10)"
      ]
     },
     "execution_count": 26,
     "metadata": {},
     "output_type": "execute_result"
    }
   ],
   "source": [
    "mnb_grid.fit(strat_train_set['cleaned'].values, strat_train_set['tags_id'].values)"
   ]
  },
  {
   "cell_type": "code",
   "execution_count": 32,
   "metadata": {},
   "outputs": [],
   "source": [
    "mnb_grid_cv_results = pd.DataFrame(mnb_grid.cv_results_)\n",
    "mnb_grid_cv_results.sort_values(by='rank_test_score', inplace=True)"
   ]
  },
  {
   "cell_type": "code",
   "execution_count": 44,
   "metadata": {},
   "outputs": [],
   "source": [
    "mnb_grid_cv_results.to_pickle('mnb_grid_cv_results_v1.pkl')"
   ]
  },
  {
   "cell_type": "code",
   "execution_count": 28,
   "metadata": {},
   "outputs": [
    {
     "data": {
      "text/plain": [
       "0.9940068493150684"
      ]
     },
     "execution_count": 28,
     "metadata": {},
     "output_type": "execute_result"
    }
   ],
   "source": [
    "mnb_grid.best_score_"
   ]
  },
  {
   "cell_type": "code",
   "execution_count": 29,
   "metadata": {},
   "outputs": [
    {
     "data": {
      "text/plain": [
       "{'tfidf__max_df': 0.5,\n",
       " 'tfidf__min_df': 10,\n",
       " 'tfidf__ngram_range': (2, 4),\n",
       " 'tfidf__use_idf': True}"
      ]
     },
     "execution_count": 29,
     "metadata": {},
     "output_type": "execute_result"
    }
   ],
   "source": [
    "mnb_grid.best_params_"
   ]
  },
  {
   "cell_type": "code",
   "execution_count": 52,
   "metadata": {},
   "outputs": [],
   "source": [
    "neigh_parameters = {\n",
    "    'tfidf__max_df': (0.5, 0.75, 1.0),\n",
    "    'tfidf__min_df': (3, 10, 20),\n",
    "    'tfidf__max_features': (None, 2000, 5000),\n",
    "    'tfidf__ngram_range': ((1, 4), (2, 4)),  # unigrams or bigrams\n",
    "    'tfidf__use_idf': (True, False),\n",
    "    #'tfidf__norm': ('l1', 'l2'),\n",
    "    'neigh__weights': ('uniform', 'distance'),\n",
    "}\n",
    "\n",
    "neigh_grid = GridSearchCV(neigh_pipe, neigh_parameters, cv=5,\n",
    "                               n_jobs=-1, verbose=10)"
   ]
  },
  {
   "cell_type": "code",
   "execution_count": 55,
   "metadata": {
    "scrolled": true
   },
   "outputs": [
    {
     "name": "stdout",
     "output_type": "stream",
     "text": [
      "Fitting 5 folds for each of 216 candidates, totalling 1080 fits\n"
     ]
    },
    {
     "name": "stderr",
     "output_type": "stream",
     "text": [
      "[Parallel(n_jobs=-1)]: Using backend LokyBackend with 4 concurrent workers.\n",
      "[Parallel(n_jobs=-1)]: Done   5 tasks      | elapsed:  3.5min\n",
      "[Parallel(n_jobs=-1)]: Done  10 tasks      | elapsed:  4.9min\n",
      "[Parallel(n_jobs=-1)]: Done  17 tasks      | elapsed:  7.5min\n",
      "[Parallel(n_jobs=-1)]: Done  24 tasks      | elapsed:  8.9min\n",
      "[Parallel(n_jobs=-1)]: Done  33 tasks      | elapsed: 12.7min\n",
      "[Parallel(n_jobs=-1)]: Done  42 tasks      | elapsed: 15.2min\n",
      "[Parallel(n_jobs=-1)]: Done  53 tasks      | elapsed: 18.6min\n",
      "[Parallel(n_jobs=-1)]: Done  64 tasks      | elapsed: 20.7min\n",
      "[Parallel(n_jobs=-1)]: Done  77 tasks      | elapsed: 24.9min\n",
      "[Parallel(n_jobs=-1)]: Done  90 tasks      | elapsed: 28.0min\n",
      "[Parallel(n_jobs=-1)]: Done 105 tasks      | elapsed: 32.0min\n",
      "[Parallel(n_jobs=-1)]: Done 120 tasks      | elapsed: 37.0min\n",
      "[Parallel(n_jobs=-1)]: Done 137 tasks      | elapsed: 45.1min\n",
      "[Parallel(n_jobs=-1)]: Done 154 tasks      | elapsed: 50.6min\n",
      "[Parallel(n_jobs=-1)]: Done 173 tasks      | elapsed: 59.0min\n",
      "[Parallel(n_jobs=-1)]: Done 192 tasks      | elapsed: 64.1min\n",
      "[Parallel(n_jobs=-1)]: Done 213 tasks      | elapsed: 72.0min\n",
      "[Parallel(n_jobs=-1)]: Done 234 tasks      | elapsed: 80.8min\n",
      "[Parallel(n_jobs=-1)]: Done 257 tasks      | elapsed: 90.1min\n",
      "[Parallel(n_jobs=-1)]: Done 280 tasks      | elapsed: 95.9min\n",
      "[Parallel(n_jobs=-1)]: Done 305 tasks      | elapsed: 103.1min\n",
      "[Parallel(n_jobs=-1)]: Done 330 tasks      | elapsed: 109.3min\n",
      "[Parallel(n_jobs=-1)]: Done 357 tasks      | elapsed: 116.3min\n",
      "[Parallel(n_jobs=-1)]: Done 384 tasks      | elapsed: 123.2min\n",
      "[Parallel(n_jobs=-1)]: Done 413 tasks      | elapsed: 131.9min\n",
      "[Parallel(n_jobs=-1)]: Done 442 tasks      | elapsed: 138.7min\n",
      "[Parallel(n_jobs=-1)]: Done 473 tasks      | elapsed: 145.2min\n",
      "[Parallel(n_jobs=-1)]: Done 504 tasks      | elapsed: 152.2min\n",
      "[Parallel(n_jobs=-1)]: Done 537 tasks      | elapsed: 162.7min\n",
      "[Parallel(n_jobs=-1)]: Done 570 tasks      | elapsed: 172.2min\n",
      "[Parallel(n_jobs=-1)]: Done 605 tasks      | elapsed: 182.0min\n",
      "[Parallel(n_jobs=-1)]: Done 640 tasks      | elapsed: 190.7min\n",
      "[Parallel(n_jobs=-1)]: Done 677 tasks      | elapsed: 201.9min\n",
      "[Parallel(n_jobs=-1)]: Done 714 tasks      | elapsed: 209.9min\n",
      "[Parallel(n_jobs=-1)]: Done 753 tasks      | elapsed: 218.4min\n",
      "[Parallel(n_jobs=-1)]: Done 792 tasks      | elapsed: 226.1min\n",
      "[Parallel(n_jobs=-1)]: Done 833 tasks      | elapsed: 235.4min\n",
      "[Parallel(n_jobs=-1)]: Done 874 tasks      | elapsed: 244.3min\n",
      "[Parallel(n_jobs=-1)]: Done 917 tasks      | elapsed: 259.1min\n",
      "[Parallel(n_jobs=-1)]: Done 960 tasks      | elapsed: 271.3min\n",
      "[Parallel(n_jobs=-1)]: Done 1005 tasks      | elapsed: 284.7min\n",
      "[Parallel(n_jobs=-1)]: Done 1050 tasks      | elapsed: 295.7min\n",
      "[Parallel(n_jobs=-1)]: Done 1080 out of 1080 | elapsed: 303.6min finished\n"
     ]
    },
    {
     "data": {
      "text/plain": [
       "GridSearchCV(cv=5, error_score='raise-deprecating',\n",
       "       estimator=Pipeline(memory=None,\n",
       "     steps=[('tfidf', TfidfVectorizer(analyzer='char', binary=False, decode_error='strict',\n",
       "        dtype=<class 'numpy.float64'>, encoding='utf-8', input='content',\n",
       "        lowercase=False, max_df=0.8, max_features=None, min_df=0.05,\n",
       "        ngram_range=(2, 4), norm='l2', preprocessor=None, smooth_idf=T...ki',\n",
       "           metric_params=None, n_jobs=None, n_neighbors=3, p=2,\n",
       "           weights='uniform'))]),\n",
       "       fit_params=None, iid='warn', n_jobs=-1,\n",
       "       param_grid={'tfidf__max_df': (0.5, 0.75, 1.0), 'tfidf__min_df': (3, 10, 20), 'tfidf__max_features': (None, 2000, 5000), 'tfidf__ngram_range': ((1, 4), (2, 4)), 'tfidf__use_idf': (True, False), 'neigh__weights': ('uniform', 'distance')},\n",
       "       pre_dispatch='2*n_jobs', refit=True, return_train_score='warn',\n",
       "       scoring=None, verbose=10)"
      ]
     },
     "execution_count": 55,
     "metadata": {},
     "output_type": "execute_result"
    }
   ],
   "source": [
    "neigh_grid.fit(strat_train_set['cleaned'].values, strat_train_set['tags_id'].values)"
   ]
  },
  {
   "cell_type": "code",
   "execution_count": 57,
   "metadata": {},
   "outputs": [],
   "source": [
    "neigh_grid_cv_results = pd.DataFrame(neigh_grid.cv_results_)\n",
    "neigh_grid_cv_results.sort_values(by='rank_test_score', inplace=True)"
   ]
  },
  {
   "cell_type": "code",
   "execution_count": 58,
   "metadata": {},
   "outputs": [],
   "source": [
    "neigh_grid_cv_results.to_pickle('neigh_grid_cv_results_v1.pkl')"
   ]
  },
  {
   "cell_type": "code",
   "execution_count": 64,
   "metadata": {},
   "outputs": [
    {
     "data": {
      "text/plain": [
       "{'neigh__weights': 'uniform',\n",
       " 'tfidf__max_df': 0.75,\n",
       " 'tfidf__max_features': 2000,\n",
       " 'tfidf__min_df': 20,\n",
       " 'tfidf__ngram_range': (1, 4),\n",
       " 'tfidf__use_idf': False}"
      ]
     },
     "execution_count": 64,
     "metadata": {},
     "output_type": "execute_result"
    }
   ],
   "source": [
    "neigh_grid.best_params_"
   ]
  },
  {
   "cell_type": "code",
   "execution_count": 61,
   "metadata": {},
   "outputs": [
    {
     "data": {
      "text/plain": [
       "(0.9940068493150684, 0.9850171232876712)"
      ]
     },
     "execution_count": 61,
     "metadata": {},
     "output_type": "execute_result"
    }
   ],
   "source": [
    "mnb_grid.best_score_, neigh_grid.best_score_"
   ]
  },
  {
   "cell_type": "markdown",
   "metadata": {},
   "source": [
    "### Visualize performance best models selected by gridsearch"
   ]
  },
  {
   "cell_type": "code",
   "execution_count": 63,
   "metadata": {},
   "outputs": [],
   "source": [
    "import matplotlib.pyplot as plt\n",
    "import scikitplot as skplt"
   ]
  },
  {
   "cell_type": "code",
   "execution_count": 78,
   "metadata": {},
   "outputs": [],
   "source": [
    "neigh_tfidf = TfidfVectorizer(lowercase=False, min_df=20, max_df=0.75, max_features = 2000, use_idf=False,\n",
    "                        analyzer='char', ngram_range=(1,4))\n",
    "neigh_clf = KNeighborsClassifier(n_neighbors=3, weights='uniform')"
   ]
  },
  {
   "cell_type": "code",
   "execution_count": 79,
   "metadata": {},
   "outputs": [],
   "source": [
    "X_train = neigh_tfidf.fit_transform(strat_train_set['cleaned'].values)\n",
    "X_valid = neigh_tfidf.transform(strat_valid_set['cleaned'].values)\n",
    "neigh_clf.fit(X_train, strat_train_set['tags_id'].values)\n",
    "probas = neigh_clf.predict_proba(X_valid)\n",
    "predicted = neigh_clf.predict(X_valid)"
   ]
  },
  {
   "cell_type": "code",
   "execution_count": 80,
   "metadata": {},
   "outputs": [
    {
     "name": "stderr",
     "output_type": "stream",
     "text": [
      "/Users/claire/Documents/Codes/ZeroOne/lib/python3.6/site-packages/sklearn/utils/deprecation.py:77: DeprecationWarning: Function plot_precision_recall_curve is deprecated; This will be removed in v0.5.0. Please use scikitplot.metrics.plot_precision_recall instead.\n",
      "  warnings.warn(msg, category=DeprecationWarning)\n"
     ]
    },
    {
     "data": {
      "image/png": "[encoded data removed]",
      "text/plain": [
       "<Figure size 432x288 with 1 Axes>"
      ]
     },
     "metadata": {
      "needs_background": "light"
     },
     "output_type": "display_data"
    }
   ],
   "source": [
    "skplt.metrics.plot_precision_recall_curve(strat_valid_set['tags_id'].values, probas)\n",
    "plt.show()"
   ]
  },
  {
   "cell_type": "code",
   "execution_count": 81,
   "metadata": {},
   "outputs": [
    {
     "data": {
      "text/plain": [
       "<matplotlib.axes._subplots.AxesSubplot at 0x1a82f7c18>"
      ]
     },
     "execution_count": 81,
     "metadata": {},
     "output_type": "execute_result"
    },
    {
     "data": {
      "image/png": "[encoded data removed]",
      "text/plain": [
       "<Figure size 432x288 with 2 Axes>"
      ]
     },
     "metadata": {
      "needs_background": "light"
     },
     "output_type": "display_data"
    }
   ],
   "source": [
    "skplt.metrics.plot_confusion_matrix(strat_valid_set['tags_id'].values, predicted)"
   ]
  },
  {
   "cell_type": "code",
   "execution_count": 82,
   "metadata": {},
   "outputs": [],
   "source": [
    "mnb_tfidf = TfidfVectorizer(lowercase=False, min_df=10, max_df=0.5, use_idf=True,\n",
    "                        analyzer='char', ngram_range=(2,4))\n",
    "mnb_clf = MultinomialNB()"
   ]
  },
  {
   "cell_type": "code",
   "execution_count": 83,
   "metadata": {},
   "outputs": [],
   "source": [
    "X_train = mnb_tfidf.fit_transform(strat_train_set['cleaned'].values)\n",
    "X_valid = mnb_tfidf.transform(strat_valid_set['cleaned'].values)\n",
    "mnb_clf.fit(X_train, strat_train_set['tags_id'].values)\n",
    "probas = mnb_clf.predict_proba(X_valid)\n",
    "predicted = mnb_clf.predict(X_valid)"
   ]
  },
  {
   "cell_type": "code",
   "execution_count": 84,
   "metadata": {},
   "outputs": [
    {
     "name": "stderr",
     "output_type": "stream",
     "text": [
      "/Users/claire/Documents/Codes/ZeroOne/lib/python3.6/site-packages/sklearn/utils/deprecation.py:77: DeprecationWarning: Function plot_precision_recall_curve is deprecated; This will be removed in v0.5.0. Please use scikitplot.metrics.plot_precision_recall instead.\n",
      "  warnings.warn(msg, category=DeprecationWarning)\n"
     ]
    },
    {
     "data": {
      "image/png": "[encoded data removed]",
      "text/plain": [
       "<Figure size 432x288 with 1 Axes>"
      ]
     },
     "metadata": {
      "needs_background": "light"
     },
     "output_type": "display_data"
    }
   ],
   "source": [
    "skplt.metrics.plot_precision_recall_curve(strat_valid_set['tags_id'].values, probas)\n",
    "plt.show()"
   ]
  },
  {
   "cell_type": "code",
   "execution_count": 85,
   "metadata": {},
   "outputs": [
    {
     "data": {
      "text/plain": [
       "<matplotlib.axes._subplots.AxesSubplot at 0x15191ce48>"
      ]
     },
     "execution_count": 85,
     "metadata": {},
     "output_type": "execute_result"
    },
    {
     "data": {
      "image/png": "[encoded data removed]",
      "text/plain": [
       "<Figure size 432x288 with 2 Axes>"
      ]
     },
     "metadata": {
      "needs_background": "light"
     },
     "output_type": "display_data"
    }
   ],
   "source": [
    "skplt.metrics.plot_confusion_matrix(strat_valid_set['tags_id'].values, predicted)"
   ]
  },
  {
   "cell_type": "code",
   "execution_count": null,
   "metadata": {},
   "outputs": [],
   "source": []
  }
 ],
 "metadata": {
  "kernelspec": {
   "display_name": "Python 3",
   "language": "python",
   "name": "python3"
  },
  "language_info": {
   "codemirror_mode": {
    "name": "ipython",
    "version": 3
   },
   "file_extension": ".py",
   "mimetype": "text/x-python",
   "name": "python",
   "nbconvert_exporter": "python",
   "pygments_lexer": "ipython3",
   "version": "3.6.1"
  }
 },
 "nbformat": 4,
 "nbformat_minor": 2
}
