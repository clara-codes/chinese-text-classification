{
 "cells": [
  {
   "cell_type": "code",
   "execution_count": 1,
   "metadata": {},
   "outputs": [],
   "source": [
    "import pandas as pd"
   ]
  },
  {
   "cell_type": "code",
   "execution_count": 2,
   "metadata": {},
   "outputs": [],
   "source": [
    "train_set = pd.read_csv('offsite-test-material/offsite-tagging-training-set (1).csv')\n",
    "test_set = pd.read_csv('offsite-test-material/offsite-tagging-test-set (1).csv')"
   ]
  },
  {
   "cell_type": "code",
   "execution_count": 3,
   "metadata": {},
   "outputs": [
    {
     "data": {
      "text/html": [
       "<div>\n",
       "<style scoped>\n",
       "    .dataframe tbody tr th:only-of-type {\n",
       "        vertical-align: middle;\n",
       "    }\n",
       "\n",
       "    .dataframe tbody tr th {\n",
       "        vertical-align: top;\n",
       "    }\n",
       "\n",
       "    .dataframe thead th {\n",
       "        text-align: right;\n",
       "    }\n",
       "</style>\n",
       "<table border=\"1\" class=\"dataframe\">\n",
       "  <thead>\n",
       "    <tr style=\"text-align: right;\">\n",
       "      <th></th>\n",
       "      <th>id</th>\n",
       "      <th>tags</th>\n",
       "      <th>text</th>\n",
       "    </tr>\n",
       "  </thead>\n",
       "  <tbody>\n",
       "    <tr>\n",
       "      <th>0</th>\n",
       "      <td>3443</td>\n",
       "      <td>足球</td>\n",
       "      <td>利物浦重賽擊敗乙組仔　英足盃過關 英格蘭足總盃第三圈今晨重賽，貴為英超勁旅的利物浦上場被乙組...</td>\n",
       "    </tr>\n",
       "    <tr>\n",
       "      <th>1</th>\n",
       "      <td>76056</td>\n",
       "      <td>足球</td>\n",
       "      <td>【中超】恒大「暴力戰」絕殺國安　楊智反重力插水惹爭議（有片） 中超首輪賽事重頭戲，廣州恒大主...</td>\n",
       "    </tr>\n",
       "    <tr>\n",
       "      <th>2</th>\n",
       "      <td>93405</td>\n",
       "      <td>足球</td>\n",
       "      <td>【歐霸決賽】阿積士控球率起腳佔優　隊長卡拉臣輸波不服氣 阿積士以歐洲主要決賽最年輕、平均22...</td>\n",
       "    </tr>\n",
       "    <tr>\n",
       "      <th>3</th>\n",
       "      <td>26767</td>\n",
       "      <td>足球</td>\n",
       "      <td>【歐國盃】韋莫斯澄清更衣室未內訌　盼以團結力量挫愛爾蘭 今晚3場直播\\r\\r\\nE組｜比利時...</td>\n",
       "    </tr>\n",
       "    <tr>\n",
       "      <th>4</th>\n",
       "      <td>20843</td>\n",
       "      <td>梁振英</td>\n",
       "      <td>王維基參選　點解？ 王維基在宣布有意出選的記者會上，打出ABC，Anyone But CY的...</td>\n",
       "    </tr>\n",
       "    <tr>\n",
       "      <th>5</th>\n",
       "      <td>74481</td>\n",
       "      <td>足球</td>\n",
       "      <td>【港超】大埔5：1炒飛馬　近7仗第5勝　與前四只差兩分 港超周日早場便出現大比數戰果，主場出...</td>\n",
       "    </tr>\n",
       "    <tr>\n",
       "      <th>6</th>\n",
       "      <td>52914</td>\n",
       "      <td>美國大選</td>\n",
       "      <td>回看內政兩大建樹　奧巴馬醫保前景難料　亮麗經濟數字埋隱憂 在任近8年，美國總統奧巴馬在內政上...</td>\n",
       "    </tr>\n",
       "    <tr>\n",
       "      <th>7</th>\n",
       "      <td>94059</td>\n",
       "      <td>足球</td>\n",
       "      <td>【牛丸退任圖輯】一年半狂破紀錄　由銅紫荊星章到亞洲最佳女教練 從來，女教練執教男子職業足球隊...</td>\n",
       "    </tr>\n",
       "    <tr>\n",
       "      <th>8</th>\n",
       "      <td>41325</td>\n",
       "      <td>足球</td>\n",
       "      <td>【足球】拉爾拉拿絕殺　艾拿戴斯︰英格蘭首捷因幸運硬幣 英格蘭主帥艾拿戴斯首戰取得好開始，憑拉...</td>\n",
       "    </tr>\n",
       "    <tr>\n",
       "      <th>9</th>\n",
       "      <td>5203</td>\n",
       "      <td>美國大選</td>\n",
       "      <td>美國民主共和兩黨初選早期重要日子 二月三月 &lt;p&gt;&lt;span style=\"font-siz...</td>\n",
       "    </tr>\n",
       "    <tr>\n",
       "      <th>10</th>\n",
       "      <td>14331</td>\n",
       "      <td>足球</td>\n",
       "      <td>福布斯最新排名　退役運動員依然好賺　佐敦壓碧咸登榜首 「波神」佐敦和「萬人迷」碧咸，雖然一個...</td>\n",
       "    </tr>\n",
       "    <tr>\n",
       "      <th>11</th>\n",
       "      <td>54363</td>\n",
       "      <td>美國大選</td>\n",
       "      <td>美國大選民調：到底係錯讀，定根本材料有毒？ 做個比喻，成堆廚師，煮&lt;U+5497&gt;咁多年&lt;U...</td>\n",
       "    </tr>\n",
       "    <tr>\n",
       "      <th>12</th>\n",
       "      <td>9960</td>\n",
       "      <td>足球</td>\n",
       "      <td>【英超爭霸】熱刺征韋斯咸全力求勝　爭初登榜首 「13」，一個在西方代表不祥的數字，亦是明晨倫...</td>\n",
       "    </tr>\n",
       "    <tr>\n",
       "      <th>13</th>\n",
       "      <td>58484</td>\n",
       "      <td>美國大選</td>\n",
       "      <td>日本軟銀允投資500億美元創5萬職位　特朗普認叻：全因我當選總統 會談在特朗普住所舉行，會後...</td>\n",
       "    </tr>\n",
       "    <tr>\n",
       "      <th>14</th>\n",
       "      <td>49725</td>\n",
       "      <td>美國大選</td>\n",
       "      <td>特朗普性醜聞未休　第十名女子現身指控性挑逗及觸胸 45歲的維珍尼亞（Karena Virgi...</td>\n",
       "    </tr>\n",
       "    <tr>\n",
       "      <th>15</th>\n",
       "      <td>94004</td>\n",
       "      <td>足球</td>\n",
       "      <td>【英超】簡恩超級倒掛膺今季金球　基奧特蠍子腳無緣提名（有片） 今季英超落幕，賽會公布全季金球...</td>\n",
       "    </tr>\n",
       "    <tr>\n",
       "      <th>16</th>\n",
       "      <td>90374</td>\n",
       "      <td>足球</td>\n",
       "      <td>【歐霸4強】曼聯再鬥切爾達爭入決賽　老臣朗尼賽前表忠心 13年的光陰，足以將朗尼由「肥仔」變...</td>\n",
       "    </tr>\n",
       "    <tr>\n",
       "      <th>17</th>\n",
       "      <td>38689</td>\n",
       "      <td>足球</td>\n",
       "      <td>【西甲】皇馬開鑼戰天殘地缺迎皇蘇　巴利莫拉達聯袂領軍 皇馬今仗陣中多名主力包括基斯坦奴朗拿度...</td>\n",
       "    </tr>\n",
       "    <tr>\n",
       "      <th>18</th>\n",
       "      <td>72975</td>\n",
       "      <td>足球</td>\n",
       "      <td>【英足總盃】非聯賽林肯城絕殺般尼晉8強　神奇主帥原是體育老師 今季李斯特城神話不再，但喜歡支...</td>\n",
       "    </tr>\n",
       "    <tr>\n",
       "      <th>19</th>\n",
       "      <td>8742</td>\n",
       "      <td>梁振英</td>\n",
       "      <td>【預算案】竟然是預算案道出你我心裡的情感 旺角騷亂之後，竟然沒有一個政治領袖走出來，嘗試為傷...</td>\n",
       "    </tr>\n",
       "    <tr>\n",
       "      <th>20</th>\n",
       "      <td>26211</td>\n",
       "      <td>足球</td>\n",
       "      <td>【英超】來季賽程出爐　摩連奴9月10日奧脫福鬥哥帥 英超今天公布2016/17球季賽程，重返...</td>\n",
       "    </tr>\n",
       "    <tr>\n",
       "      <th>21</th>\n",
       "      <td>53077</td>\n",
       "      <td>美國大選</td>\n",
       "      <td>【美國大選】希、特齊倡加大財政開支　美債風險全球承擔 用債台高築形容美國，一點也不為過。自2...</td>\n",
       "    </tr>\n",
       "    <tr>\n",
       "      <th>22</th>\n",
       "      <td>28573</td>\n",
       "      <td>足球</td>\n",
       "      <td>【歐國盃16強】冰島教練兼任牙醫　門將撲波又做導演 近年推動足球發展（按此觀看全文）的冰島在...</td>\n",
       "    </tr>\n",
       "    <tr>\n",
       "      <th>23</th>\n",
       "      <td>69322</td>\n",
       "      <td>足球</td>\n",
       "      <td>【非洲盃】加納4強負喀麥隆　第一把膠椅連續兩屆成罪人（有片） 連續兩屆失誤累加納無緣冠軍，加...</td>\n",
       "    </tr>\n",
       "    <tr>\n",
       "      <th>24</th>\n",
       "      <td>11648</td>\n",
       "      <td>足球</td>\n",
       "      <td>【有片】45歲雲達沙「期間限定」復出勇救12碼 退役多年，前荷蘭門將雲達沙在昨日復出，為母會...</td>\n",
       "    </tr>\n",
       "    <tr>\n",
       "      <th>25</th>\n",
       "      <td>62048</td>\n",
       "      <td>足球</td>\n",
       "      <td>【足球】干地搶分至上不愛聖誕　「寧願練球都不想去購物」 聖誕佳節，商店人頭湧湧，大家都在選購...</td>\n",
       "    </tr>\n",
       "    <tr>\n",
       "      <th>26</th>\n",
       "      <td>65922</td>\n",
       "      <td>足球</td>\n",
       "      <td>【英超】曼城淨吞愛華頓4蛋　錄今季聯賽最大敗仗　落後榜首10分 或許曼城主帥哥迪奧拿對球隊的...</td>\n",
       "    </tr>\n",
       "    <tr>\n",
       "      <th>27</th>\n",
       "      <td>63016</td>\n",
       "      <td>足球</td>\n",
       "      <td>【英超】脫胎換骨的拉爾拉拿　高普領多人戰術鬥曼城（有片） 為追逼榜首的車路士，現落後6分的利...</td>\n",
       "    </tr>\n",
       "    <tr>\n",
       "      <th>28</th>\n",
       "      <td>39759</td>\n",
       "      <td>足球</td>\n",
       "      <td>【英超】雲格出手簽兩雷霆救「兵」　梅斯達菲成阿仙奴新希望 6月27日（周六）10:00pm　...</td>\n",
       "    </tr>\n",
       "    <tr>\n",
       "      <th>29</th>\n",
       "      <td>49658</td>\n",
       "      <td>美國大選</td>\n",
       "      <td>【有片】點評美國總統大選辯論最終回　楊岳橋同你拆解三招 美國大選總統辯論來到最後一場，兩名候...</td>\n",
       "    </tr>\n",
       "    <tr>\n",
       "      <th>...</th>\n",
       "      <td>...</td>\n",
       "      <td>...</td>\n",
       "      <td>...</td>\n",
       "    </tr>\n",
       "    <tr>\n",
       "      <th>3864</th>\n",
       "      <td>47650</td>\n",
       "      <td>美國大選</td>\n",
       "      <td>看美國大選辯論學英語　A lepo與Bag daddy什麼意思？ A lepo兩位候選人針對...</td>\n",
       "    </tr>\n",
       "    <tr>\n",
       "      <th>3865</th>\n",
       "      <td>27584</td>\n",
       "      <td>足球</td>\n",
       "      <td>【歐國盃．球評】16變24　賠了可觀性　肥了歐洲球壇 增球隊參賽減質素\\r\\r\\n\\r\\r\\...</td>\n",
       "    </tr>\n",
       "    <tr>\n",
       "      <th>3866</th>\n",
       "      <td>81450</td>\n",
       "      <td>足球</td>\n",
       "      <td>【足球】迪基亞費托卡卡義賣波衫　為查比高恩斯空難籌款 巴西球隊查比高恩斯去年11月空難後，歐...</td>\n",
       "    </tr>\n",
       "    <tr>\n",
       "      <th>3867</th>\n",
       "      <td>14792</td>\n",
       "      <td>梁振英</td>\n",
       "      <td>【向奧巴馬學習】要人支持你　首先你要真心支持本地體育 要得到人真心支持，不是單單只看 8 分...</td>\n",
       "    </tr>\n",
       "    <tr>\n",
       "      <th>3868</th>\n",
       "      <td>57966</td>\n",
       "      <td>足球</td>\n",
       "      <td>【英冠】普雷斯頓前鋒內訌齊領紅　主帥鬧爆︰羞恥及丟臉（有片） 正所謂「相嗌唔好口，夠薑就隻揪...</td>\n",
       "    </tr>\n",
       "    <tr>\n",
       "      <th>3869</th>\n",
       "      <td>7176</td>\n",
       "      <td>足球</td>\n",
       "      <td>荷乙華域克情人節特獻　內衣模特兒當進場球僮 每逢情人佳節，總會看見街裏愛人一對對，那足球場上...</td>\n",
       "    </tr>\n",
       "    <tr>\n",
       "      <th>3870</th>\n",
       "      <td>54574</td>\n",
       "      <td>足球</td>\n",
       "      <td>【世盃外】美斯復勇助阿根廷大捷　賽後對傳媒下封口令（有片） 阿根廷於上場世界盃南美洲區外圍賽...</td>\n",
       "    </tr>\n",
       "    <tr>\n",
       "      <th>3871</th>\n",
       "      <td>82385</td>\n",
       "      <td>足球</td>\n",
       "      <td>【01球評】曼聯又和一場　來季要踢歐聯？　爭前四不如爭歐霸 要對比兩代曼聯主帥摩連奴及雲高爾...</td>\n",
       "    </tr>\n",
       "    <tr>\n",
       "      <th>3872</th>\n",
       "      <td>38355</td>\n",
       "      <td>足球</td>\n",
       "      <td>【英超】摩連奴曼聯主場擺大「巴」　伊巴普巴齊迎奧脫福首戰 曼聯Vs修咸頓　8月20日（周六）...</td>\n",
       "    </tr>\n",
       "    <tr>\n",
       "      <th>3873</th>\n",
       "      <td>50394</td>\n",
       "      <td>美國大選</td>\n",
       "      <td>【美國大選】大局已定　希拉里應放眼2018年中期選舉? 美國總統選舉似乎已塵埃落定，未來的十...</td>\n",
       "    </tr>\n",
       "    <tr>\n",
       "      <th>3874</th>\n",
       "      <td>19507</td>\n",
       "      <td>足球</td>\n",
       "      <td>【01球評．曼城出局】柏歷堅尼去季大限已到　續命等一個人 球迷怒氣沖沖，大數柏歷堅尼不是，總...</td>\n",
       "    </tr>\n",
       "    <tr>\n",
       "      <th>3875</th>\n",
       "      <td>31290</td>\n",
       "      <td>梁振英</td>\n",
       "      <td>【廉署一姐劈炮】涂謹申質疑內部指引不得強制查特首　廉署：沒有 涂：驚訝廉署自限權力\\r\\r\\...</td>\n",
       "    </tr>\n",
       "    <tr>\n",
       "      <th>3876</th>\n",
       "      <td>44424</td>\n",
       "      <td>足球</td>\n",
       "      <td>【法甲】巴神翻生2場入4球　率尼斯高踞榜首（有片） 征戰過意甲和英超，看來法甲對巴洛迪利（M...</td>\n",
       "    </tr>\n",
       "    <tr>\n",
       "      <th>3877</th>\n",
       "      <td>1260</td>\n",
       "      <td>足球</td>\n",
       "      <td>【動感視覺】黑貓帶來好運？ 男女老少愛足球，想不到這隻黑貓亦在英足盃賽事，衝入愛華頓主場內襯...</td>\n",
       "    </tr>\n",
       "    <tr>\n",
       "      <th>3878</th>\n",
       "      <td>65968</td>\n",
       "      <td>足球</td>\n",
       "      <td>【01球評】雙紅會兩帥鬥智精彩　摩連奴漸重現費sir霸氣 今晨看完雙紅會，賽後Whatsap...</td>\n",
       "    </tr>\n",
       "    <tr>\n",
       "      <th>3879</th>\n",
       "      <td>4641</td>\n",
       "      <td>足球</td>\n",
       "      <td>情歸車路士　柏圖如願回歸歐洲 傳足半年，由去中超變去英超，曼聯轉成利物浦，巴西前鋒柏圖最終是...</td>\n",
       "    </tr>\n",
       "    <tr>\n",
       "      <th>3880</th>\n",
       "      <td>94047</td>\n",
       "      <td>足球</td>\n",
       "      <td>【牛丸退任】陳婉婷來季進修卸東方主帥職　留任教練團技術分析 28歲的陳婉婷自2015年尾任東...</td>\n",
       "    </tr>\n",
       "    <tr>\n",
       "      <th>3881</th>\n",
       "      <td>20128</td>\n",
       "      <td>梁振英</td>\n",
       "      <td>調查：逾半基層入不敷支　團體批梁振英九千元養一家五口「離地」 特首梁振英早前出席一個扶貧活動...</td>\n",
       "    </tr>\n",
       "    <tr>\n",
       "      <th>3882</th>\n",
       "      <td>57943</td>\n",
       "      <td>足球</td>\n",
       "      <td>【西甲】拉莫斯末段救駕　皇馬逼和巴塞保今季不敗 兩隊賽前為遇上空難的巴西球隊查比高恩斯默哀，...</td>\n",
       "    </tr>\n",
       "    <tr>\n",
       "      <th>3883</th>\n",
       "      <td>23220</td>\n",
       "      <td>梁振英</td>\n",
       "      <td>拿一&lt;U+6AC8&gt;入群眾成空話　梁振英：如落區不需勞師動眾　十分願意溝通 與泛民關係\\r\\...</td>\n",
       "    </tr>\n",
       "    <tr>\n",
       "      <th>3884</th>\n",
       "      <td>19049</td>\n",
       "      <td>足球</td>\n",
       "      <td>【足總盃】迪亞高蠱惑角球奏效　飛馬入決賽鬥元朗 兵不厭詐。香港飛馬鋒將迪亞高憑一次騙倒所有人...</td>\n",
       "    </tr>\n",
       "    <tr>\n",
       "      <th>3885</th>\n",
       "      <td>91466</td>\n",
       "      <td>梁振英</td>\n",
       "      <td>【UGL案．拆局】風波持續不息　周浩鼎其實仲傷過梁振英 民建聯立法會議員周浩鼎擔任調查梁振英...</td>\n",
       "    </tr>\n",
       "    <tr>\n",
       "      <th>3886</th>\n",
       "      <td>43967</td>\n",
       "      <td>足球</td>\n",
       "      <td>【英超】熱刺噩耗　卡尼&lt;U+551E&gt;兩個月　指望前荷甲金靴 熱刺的命運，本來由前鋒哈利卡尼...</td>\n",
       "    </tr>\n",
       "    <tr>\n",
       "      <th>3887</th>\n",
       "      <td>64874</td>\n",
       "      <td>梁振英</td>\n",
       "      <td>港大民研：梁振英評分回升　林鄭民望跌至上任以來最低　 民研計劃在2017年1月3至5日，透過...</td>\n",
       "    </tr>\n",
       "    <tr>\n",
       "      <th>3888</th>\n",
       "      <td>30062</td>\n",
       "      <td>足球</td>\n",
       "      <td>【轉會動態】拿尼轉投華倫戰西甲　阿仙奴車路士齊搶莫拉達 拿尼　Nani\\r\\r\\n\\r\\r\\...</td>\n",
       "    </tr>\n",
       "    <tr>\n",
       "      <th>3889</th>\n",
       "      <td>26483</td>\n",
       "      <td>足球</td>\n",
       "      <td>【歐國盃．深宵福利】空手道索太食譜加愛心　成就金靴「羅拔仔」 有誰自認入得廚房，出得Gym房...</td>\n",
       "    </tr>\n",
       "    <tr>\n",
       "      <th>3890</th>\n",
       "      <td>3231</td>\n",
       "      <td>足球</td>\n",
       "      <td>阿士東維拉驚險過關　英足盃兩球淨勝乙組仔 今季走勢低迷的阿士東維拉，在英超榜尾苦苦掙扎，轉到...</td>\n",
       "    </tr>\n",
       "    <tr>\n",
       "      <th>3891</th>\n",
       "      <td>90791</td>\n",
       "      <td>足球</td>\n",
       "      <td>【港足日與夜．朱兆基】37歲唔認老不服輸　更要喚起南華霸氣 周日（5月14日）於足總盃再撼傑...</td>\n",
       "    </tr>\n",
       "    <tr>\n",
       "      <th>3892</th>\n",
       "      <td>56574</td>\n",
       "      <td>梁振英</td>\n",
       "      <td>【特首選戰】梁營啟動競選工程　三女將婉拒入連任辦 羅范工作困身　婉拒「歸隊」\\r\\r\\n\\r...</td>\n",
       "    </tr>\n",
       "    <tr>\n",
       "      <th>3893</th>\n",
       "      <td>77253</td>\n",
       "      <td>足球</td>\n",
       "      <td>【英超】曼城撼利物浦求反底　效率王辛尼下半季爆發成關鍵 與阿古路一同下半季發力的，不是倒戈利...</td>\n",
       "    </tr>\n",
       "  </tbody>\n",
       "</table>\n",
       "<p>3894 rows × 3 columns</p>\n",
       "</div>"
      ],
      "text/plain": [
       "         id  tags                                               text\n",
       "0      3443    足球  利物浦重賽擊敗乙組仔　英足盃過關 英格蘭足總盃第三圈今晨重賽，貴為英超勁旅的利物浦上場被乙組...\n",
       "1     76056    足球  【中超】恒大「暴力戰」絕殺國安　楊智反重力插水惹爭議（有片） 中超首輪賽事重頭戲，廣州恒大主...\n",
       "2     93405    足球  【歐霸決賽】阿積士控球率起腳佔優　隊長卡拉臣輸波不服氣 阿積士以歐洲主要決賽最年輕、平均22...\n",
       "3     26767    足球  【歐國盃】韋莫斯澄清更衣室未內訌　盼以團結力量挫愛爾蘭 今晚3場直播\\r\\r\\nE組｜比利時...\n",
       "4     20843   梁振英  王維基參選　點解？ 王維基在宣布有意出選的記者會上，打出ABC，Anyone But CY的...\n",
       "5     74481    足球  【港超】大埔5：1炒飛馬　近7仗第5勝　與前四只差兩分 港超周日早場便出現大比數戰果，主場出...\n",
       "6     52914  美國大選  回看內政兩大建樹　奧巴馬醫保前景難料　亮麗經濟數字埋隱憂 在任近8年，美國總統奧巴馬在內政上...\n",
       "7     94059    足球  【牛丸退任圖輯】一年半狂破紀錄　由銅紫荊星章到亞洲最佳女教練 從來，女教練執教男子職業足球隊...\n",
       "8     41325    足球  【足球】拉爾拉拿絕殺　艾拿戴斯︰英格蘭首捷因幸運硬幣 英格蘭主帥艾拿戴斯首戰取得好開始，憑拉...\n",
       "9      5203  美國大選  美國民主共和兩黨初選早期重要日子 二月三月 <p><span style=\"font-siz...\n",
       "10    14331    足球  福布斯最新排名　退役運動員依然好賺　佐敦壓碧咸登榜首 「波神」佐敦和「萬人迷」碧咸，雖然一個...\n",
       "11    54363  美國大選  美國大選民調：到底係錯讀，定根本材料有毒？ 做個比喻，成堆廚師，煮<U+5497>咁多年<U...\n",
       "12     9960    足球  【英超爭霸】熱刺征韋斯咸全力求勝　爭初登榜首 「13」，一個在西方代表不祥的數字，亦是明晨倫...\n",
       "13    58484  美國大選  日本軟銀允投資500億美元創5萬職位　特朗普認叻：全因我當選總統 會談在特朗普住所舉行，會後...\n",
       "14    49725  美國大選  特朗普性醜聞未休　第十名女子現身指控性挑逗及觸胸 45歲的維珍尼亞（Karena Virgi...\n",
       "15    94004    足球  【英超】簡恩超級倒掛膺今季金球　基奧特蠍子腳無緣提名（有片） 今季英超落幕，賽會公布全季金球...\n",
       "16    90374    足球  【歐霸4強】曼聯再鬥切爾達爭入決賽　老臣朗尼賽前表忠心 13年的光陰，足以將朗尼由「肥仔」變...\n",
       "17    38689    足球  【西甲】皇馬開鑼戰天殘地缺迎皇蘇　巴利莫拉達聯袂領軍 皇馬今仗陣中多名主力包括基斯坦奴朗拿度...\n",
       "18    72975    足球  【英足總盃】非聯賽林肯城絕殺般尼晉8強　神奇主帥原是體育老師 今季李斯特城神話不再，但喜歡支...\n",
       "19     8742   梁振英  【預算案】竟然是預算案道出你我心裡的情感 旺角騷亂之後，竟然沒有一個政治領袖走出來，嘗試為傷...\n",
       "20    26211    足球  【英超】來季賽程出爐　摩連奴9月10日奧脫福鬥哥帥 英超今天公布2016/17球季賽程，重返...\n",
       "21    53077  美國大選  【美國大選】希、特齊倡加大財政開支　美債風險全球承擔 用債台高築形容美國，一點也不為過。自2...\n",
       "22    28573    足球  【歐國盃16強】冰島教練兼任牙醫　門將撲波又做導演 近年推動足球發展（按此觀看全文）的冰島在...\n",
       "23    69322    足球  【非洲盃】加納4強負喀麥隆　第一把膠椅連續兩屆成罪人（有片） 連續兩屆失誤累加納無緣冠軍，加...\n",
       "24    11648    足球  【有片】45歲雲達沙「期間限定」復出勇救12碼 退役多年，前荷蘭門將雲達沙在昨日復出，為母會...\n",
       "25    62048    足球  【足球】干地搶分至上不愛聖誕　「寧願練球都不想去購物」 聖誕佳節，商店人頭湧湧，大家都在選購...\n",
       "26    65922    足球  【英超】曼城淨吞愛華頓4蛋　錄今季聯賽最大敗仗　落後榜首10分 或許曼城主帥哥迪奧拿對球隊的...\n",
       "27    63016    足球  【英超】脫胎換骨的拉爾拉拿　高普領多人戰術鬥曼城（有片） 為追逼榜首的車路士，現落後6分的利...\n",
       "28    39759    足球  【英超】雲格出手簽兩雷霆救「兵」　梅斯達菲成阿仙奴新希望 6月27日（周六）10:00pm　...\n",
       "29    49658  美國大選  【有片】點評美國總統大選辯論最終回　楊岳橋同你拆解三招 美國大選總統辯論來到最後一場，兩名候...\n",
       "...     ...   ...                                                ...\n",
       "3864  47650  美國大選  看美國大選辯論學英語　A lepo與Bag daddy什麼意思？ A lepo兩位候選人針對...\n",
       "3865  27584    足球  【歐國盃．球評】16變24　賠了可觀性　肥了歐洲球壇 增球隊參賽減質素\\r\\r\\n\\r\\r\\...\n",
       "3866  81450    足球  【足球】迪基亞費托卡卡義賣波衫　為查比高恩斯空難籌款 巴西球隊查比高恩斯去年11月空難後，歐...\n",
       "3867  14792   梁振英  【向奧巴馬學習】要人支持你　首先你要真心支持本地體育 要得到人真心支持，不是單單只看 8 分...\n",
       "3868  57966    足球  【英冠】普雷斯頓前鋒內訌齊領紅　主帥鬧爆︰羞恥及丟臉（有片） 正所謂「相嗌唔好口，夠薑就隻揪...\n",
       "3869   7176    足球  荷乙華域克情人節特獻　內衣模特兒當進場球僮 每逢情人佳節，總會看見街裏愛人一對對，那足球場上...\n",
       "3870  54574    足球  【世盃外】美斯復勇助阿根廷大捷　賽後對傳媒下封口令（有片） 阿根廷於上場世界盃南美洲區外圍賽...\n",
       "3871  82385    足球  【01球評】曼聯又和一場　來季要踢歐聯？　爭前四不如爭歐霸 要對比兩代曼聯主帥摩連奴及雲高爾...\n",
       "3872  38355    足球  【英超】摩連奴曼聯主場擺大「巴」　伊巴普巴齊迎奧脫福首戰 曼聯Vs修咸頓　8月20日（周六）...\n",
       "3873  50394  美國大選  【美國大選】大局已定　希拉里應放眼2018年中期選舉? 美國總統選舉似乎已塵埃落定，未來的十...\n",
       "3874  19507    足球  【01球評．曼城出局】柏歷堅尼去季大限已到　續命等一個人 球迷怒氣沖沖，大數柏歷堅尼不是，總...\n",
       "3875  31290   梁振英  【廉署一姐劈炮】涂謹申質疑內部指引不得強制查特首　廉署：沒有 涂：驚訝廉署自限權力\\r\\r\\...\n",
       "3876  44424    足球  【法甲】巴神翻生2場入4球　率尼斯高踞榜首（有片） 征戰過意甲和英超，看來法甲對巴洛迪利（M...\n",
       "3877   1260    足球  【動感視覺】黑貓帶來好運？ 男女老少愛足球，想不到這隻黑貓亦在英足盃賽事，衝入愛華頓主場內襯...\n",
       "3878  65968    足球  【01球評】雙紅會兩帥鬥智精彩　摩連奴漸重現費sir霸氣 今晨看完雙紅會，賽後Whatsap...\n",
       "3879   4641    足球  情歸車路士　柏圖如願回歸歐洲 傳足半年，由去中超變去英超，曼聯轉成利物浦，巴西前鋒柏圖最終是...\n",
       "3880  94047    足球  【牛丸退任】陳婉婷來季進修卸東方主帥職　留任教練團技術分析 28歲的陳婉婷自2015年尾任東...\n",
       "3881  20128   梁振英  調查：逾半基層入不敷支　團體批梁振英九千元養一家五口「離地」 特首梁振英早前出席一個扶貧活動...\n",
       "3882  57943    足球  【西甲】拉莫斯末段救駕　皇馬逼和巴塞保今季不敗 兩隊賽前為遇上空難的巴西球隊查比高恩斯默哀，...\n",
       "3883  23220   梁振英  拿一<U+6AC8>入群眾成空話　梁振英：如落區不需勞師動眾　十分願意溝通 與泛民關係\\r\\...\n",
       "3884  19049    足球  【足總盃】迪亞高蠱惑角球奏效　飛馬入決賽鬥元朗 兵不厭詐。香港飛馬鋒將迪亞高憑一次騙倒所有人...\n",
       "3885  91466   梁振英  【UGL案．拆局】風波持續不息　周浩鼎其實仲傷過梁振英 民建聯立法會議員周浩鼎擔任調查梁振英...\n",
       "3886  43967    足球  【英超】熱刺噩耗　卡尼<U+551E>兩個月　指望前荷甲金靴 熱刺的命運，本來由前鋒哈利卡尼...\n",
       "3887  64874   梁振英  港大民研：梁振英評分回升　林鄭民望跌至上任以來最低　 民研計劃在2017年1月3至5日，透過...\n",
       "3888  30062    足球  【轉會動態】拿尼轉投華倫戰西甲　阿仙奴車路士齊搶莫拉達 拿尼　Nani\\r\\r\\n\\r\\r\\...\n",
       "3889  26483    足球  【歐國盃．深宵福利】空手道索太食譜加愛心　成就金靴「羅拔仔」 有誰自認入得廚房，出得Gym房...\n",
       "3890   3231    足球  阿士東維拉驚險過關　英足盃兩球淨勝乙組仔 今季走勢低迷的阿士東維拉，在英超榜尾苦苦掙扎，轉到...\n",
       "3891  90791    足球  【港足日與夜．朱兆基】37歲唔認老不服輸　更要喚起南華霸氣 周日（5月14日）於足總盃再撼傑...\n",
       "3892  56574   梁振英  【特首選戰】梁營啟動競選工程　三女將婉拒入連任辦 羅范工作困身　婉拒「歸隊」\\r\\r\\n\\r...\n",
       "3893  77253    足球  【英超】曼城撼利物浦求反底　效率王辛尼下半季爆發成關鍵 與阿古路一同下半季發力的，不是倒戈利...\n",
       "\n",
       "[3894 rows x 3 columns]"
      ]
     },
     "execution_count": 3,
     "metadata": {},
     "output_type": "execute_result"
    }
   ],
   "source": [
    "train_set"
   ]
  },
  {
   "cell_type": "code",
   "execution_count": 4,
   "metadata": {},
   "outputs": [
    {
     "data": {
      "text/plain": [
       "count     3894.000000\n",
       "mean      1257.410375\n",
       "std        916.709608\n",
       "min        105.000000\n",
       "25%        710.000000\n",
       "50%       1024.500000\n",
       "75%       1539.750000\n",
       "max      19005.000000\n",
       "Name: text, dtype: float64"
      ]
     },
     "execution_count": 4,
     "metadata": {},
     "output_type": "execute_result"
    }
   ],
   "source": [
    "train_set['text'].apply(lambda x: len(x)).describe()"
   ]
  },
  {
   "cell_type": "markdown",
   "metadata": {},
   "source": [
    "Strip: \n",
    "\n",
    "1) HTML tags,\n",
    "\n",
    "2) URLS, \n",
    "\n",
    "3) Datetime,\n",
    "\n",
    "4) Numbers, \n",
    "\n",
    "5) Random unicode\n"
   ]
  },
  {
   "cell_type": "markdown",
   "metadata": {},
   "source": [
    "https://docs.python.org/2/library/htmlparser.html"
   ]
  },
  {
   "cell_type": "markdown",
   "metadata": {},
   "source": [
    "# Data Cleansing and Processing"
   ]
  },
  {
   "cell_type": "markdown",
   "metadata": {},
   "source": [
    "### Check invalid values"
   ]
  },
  {
   "cell_type": "code",
   "execution_count": 5,
   "metadata": {},
   "outputs": [
    {
     "data": {
      "text/plain": [
       "(id      0\n",
       " tags    0\n",
       " text    0\n",
       " dtype: int64, id      0\n",
       " tags    0\n",
       " text    0\n",
       " dtype: int64)"
      ]
     },
     "execution_count": 5,
     "metadata": {},
     "output_type": "execute_result"
    }
   ],
   "source": [
    "train_set[train_set['text'].isnull()].count(), train_set[train_set['tags'].isnull()].count()"
   ]
  },
  {
   "cell_type": "code",
   "execution_count": 6,
   "metadata": {},
   "outputs": [
    {
     "data": {
      "text/plain": [
       "(id      0\n",
       " tags    0\n",
       " text    0\n",
       " dtype: int64, id      0\n",
       " tags    0\n",
       " text    0\n",
       " dtype: int64)"
      ]
     },
     "execution_count": 6,
     "metadata": {},
     "output_type": "execute_result"
    }
   ],
   "source": [
    "train_set[train_set['text'].apply(lambda x: len(x.replace(' ',''))) == 0].count(), \\\n",
    "train_set[train_set['tags'].apply(lambda x: len(x.replace(' ',''))) == 0].count()"
   ]
  },
  {
   "cell_type": "markdown",
   "metadata": {},
   "source": [
    "### Text Cleaning"
   ]
  },
  {
   "cell_type": "code",
   "execution_count": 7,
   "metadata": {},
   "outputs": [],
   "source": [
    "import re\n",
    "from html.parser import HTMLParser\n",
    "\n",
    "class MLStripper(HTMLParser):\n",
    "    def __init__(self):\n",
    "        self.reset()\n",
    "        self.convert_charrefs = True\n",
    "        self.strict = False\n",
    "        self.fed = []\n",
    "    def handle_data(self, data):\n",
    "        self.fed.append(data)\n",
    "    def get_data(self):\n",
    "        return ''.join(self.fed)\n",
    "    \n",
    "class TextCleaner():\n",
    "    def __init__(self, html, text = None):\n",
    "        self.html = html\n",
    "        if not text:\n",
    "            self.text = self.strip_tags()\n",
    "        else:\n",
    "            self.text = text\n",
    "    def strip_tags(self):\n",
    "        s = MLStripper()\n",
    "        s.feed(self.html)\n",
    "        return s.get_data()\n",
    "    def remove_url(self):\n",
    "        return re.sub(r'https?:\\/\\/\\S+', '', self.text, flags = re.MULTILINE)    \n",
    "    def remove_date(self):\n",
    "        return re.sub(r'（?\\d*月\\d*日）?', '', self.text, flags = re.MULTILINE)    \n",
    "    def remove_time(self):\n",
    "        return re.sub(r'【?\\d*:\\d*】?', '', self.text, flags = re.MULTILINE)    \n",
    "    def remove_digits(self):\n",
    "        return re.sub(r'【?\\d*\\.?\\d*】?', '', self.text, flags = re.MULTILINE)    \n",
    "    def remove_newlines(self):\n",
    "        return re.sub(r'[/\\r/\\n/\\t]*', '', self.text, flags = re.MULTILINE).replace('\\u3000', '').replace('\\xa0', '')    \n",
    "    def get_clean_text(self):\n",
    "        self.text = self.remove_url()\n",
    "        self.text = self.remove_time()\n",
    "        self.text = self.remove_date()\n",
    "        self.text = self.remove_digits()\n",
    "        self.text = self.remove_newlines()\n",
    "        return self.text\n",
    "    \n",
    "def clean_text(html):\n",
    "    cleaner = TextCleaner(html)\n",
    "    return cleaner.get_clean_text()"
   ]
  },
  {
   "cell_type": "code",
   "execution_count": 9,
   "metadata": {},
   "outputs": [],
   "source": [
    "train_set['cleaned'] = train_set['text'].apply(lambda x: clean_text(x) )"
   ]
  },
  {
   "cell_type": "code",
   "execution_count": 10,
   "metadata": {},
   "outputs": [
    {
     "data": {
      "text/plain": [
       "count     3894.000000\n",
       "mean       862.809964\n",
       "std        522.950909\n",
       "min         27.000000\n",
       "25%        541.000000\n",
       "50%        733.000000\n",
       "75%       1030.000000\n",
       "max      12067.000000\n",
       "Name: cleaned, dtype: float64"
      ]
     },
     "execution_count": 10,
     "metadata": {},
     "output_type": "execute_result"
    }
   ],
   "source": [
    "train_set['cleaned'].apply(lambda x: len(x)).describe()"
   ]
  },
  {
   "cell_type": "markdown",
   "metadata": {},
   "source": [
    "### Encoding Labels"
   ]
  },
  {
   "cell_type": "code",
   "execution_count": 14,
   "metadata": {},
   "outputs": [],
   "source": [
    "from sklearn import preprocessing"
   ]
  },
  {
   "cell_type": "code",
   "execution_count": 15,
   "metadata": {},
   "outputs": [
    {
     "data": {
      "text/plain": [
       "array(['梁振英', '美國大選', '足球'], dtype=object)"
      ]
     },
     "execution_count": 15,
     "metadata": {},
     "output_type": "execute_result"
    }
   ],
   "source": [
    "le = preprocessing.LabelEncoder()\n",
    "le.fit(train_set['tags'])\n",
    "le.classes_"
   ]
  },
  {
   "cell_type": "code",
   "execution_count": 16,
   "metadata": {},
   "outputs": [],
   "source": [
    "train_set['tags_id'] = le.transform(train_set['tags']) "
   ]
  },
  {
   "cell_type": "code",
   "execution_count": 17,
   "metadata": {},
   "outputs": [
    {
     "data": {
      "text/plain": [
       "(足球      2123\n",
       " 梁振英      929\n",
       " 美國大選     842\n",
       " Name: tags, dtype: int64, 2    2123\n",
       " 0     929\n",
       " 1     842\n",
       " Name: tags_id, dtype: int64)"
      ]
     },
     "execution_count": 17,
     "metadata": {},
     "output_type": "execute_result"
    }
   ],
   "source": [
    "train_set[\"tags\"].value_counts(), train_set[\"tags_id\"].value_counts()"
   ]
  },
  {
   "cell_type": "markdown",
   "metadata": {},
   "source": [
    "# Split dataset into traing set, testing set and validation set (stratified)"
   ]
  },
  {
   "cell_type": "markdown",
   "metadata": {},
   "source": [
    "Train 60%, Test 20%, Validation 20%"
   ]
  },
  {
   "cell_type": "code",
   "execution_count": 24,
   "metadata": {},
   "outputs": [],
   "source": [
    "from sklearn.model_selection import StratifiedShuffleSplit"
   ]
  },
  {
   "cell_type": "code",
   "execution_count": 54,
   "metadata": {},
   "outputs": [],
   "source": [
    "split = StratifiedShuffleSplit(n_splits=1, test_size=0.4, random_state=42)\n",
    "\n",
    "for train_index, test_valid_index in split.split(train_set, train_set[\"tags_id\"]):\n",
    "    strat_train_set = train_set.loc[train_index]\n",
    "    strat_test_valid_set = train_set.loc[test_valid_index]"
   ]
  },
  {
   "cell_type": "code",
   "execution_count": 55,
   "metadata": {},
   "outputs": [],
   "source": [
    "strat_test_valid_set = strat_test_valid_set.reset_index()"
   ]
  },
  {
   "cell_type": "code",
   "execution_count": 56,
   "metadata": {},
   "outputs": [],
   "source": [
    "split = StratifiedShuffleSplit(n_splits=1, test_size=0.5, random_state=42)\n",
    "\n",
    "for train_index, test_valid_index in split.split(strat_test_valid_set, strat_test_valid_set[\"tags_id\"]):\n",
    "    strat_test_set = strat_test_valid_set.loc[train_index]\n",
    "    strat_valid_set = strat_test_valid_set.loc[test_valid_index]"
   ]
  },
  {
   "cell_type": "code",
   "execution_count": 57,
   "metadata": {},
   "outputs": [
    {
     "data": {
      "text/plain": [
       "Int64Index([2, 0, 1], dtype='int64')"
      ]
     },
     "execution_count": 57,
     "metadata": {},
     "output_type": "execute_result"
    }
   ],
   "source": [
    "strat_train_set['tags_id'].value_counts().index"
   ]
  },
  {
   "cell_type": "code",
   "execution_count": 58,
   "metadata": {},
   "outputs": [],
   "source": [
    "def cat_proportions(data):\n",
    "    return data[\"tags_id\"].value_counts() / len(data)\n",
    "\n",
    "compare_props = pd.DataFrame({\n",
    "    \"Tag\": le.inverse_transform(strat_train_set['tags_id'].value_counts().index),\n",
    "    \"Overall\": cat_proportions(train_set),\n",
    "    \"Stratified Train\": cat_proportions(strat_train_set),\n",
    "    \"Stratified Test\": cat_proportions(strat_test_set),\n",
    "    \"Stratified Valid\": cat_proportions(strat_valid_set),\n",
    "}).sort_index()\n",
    "compare_props[\"Train. %error\"] = 100 * compare_props[\"Stratified Train\"] / compare_props[\"Overall\"] - 100\n",
    "compare_props[\"Test. %error\"] = 100 * compare_props[\"Stratified Test\"] / compare_props[\"Overall\"] - 100\n",
    "compare_props[\"Valid. %error\"] = 100 * compare_props[\"Stratified Valid\"] / compare_props[\"Overall\"] - 100"
   ]
  },
  {
   "cell_type": "code",
   "execution_count": 59,
   "metadata": {},
   "outputs": [
    {
     "data": {
      "text/html": [
       "<div>\n",
       "<style scoped>\n",
       "    .dataframe tbody tr th:only-of-type {\n",
       "        vertical-align: middle;\n",
       "    }\n",
       "\n",
       "    .dataframe tbody tr th {\n",
       "        vertical-align: top;\n",
       "    }\n",
       "\n",
       "    .dataframe thead th {\n",
       "        text-align: right;\n",
       "    }\n",
       "</style>\n",
       "<table border=\"1\" class=\"dataframe\">\n",
       "  <thead>\n",
       "    <tr style=\"text-align: right;\">\n",
       "      <th></th>\n",
       "      <th>Tag</th>\n",
       "      <th>Overall</th>\n",
       "      <th>Stratified Train</th>\n",
       "      <th>Stratified Test</th>\n",
       "      <th>Stratified Valid</th>\n",
       "      <th>Train. %error</th>\n",
       "      <th>Test. %error</th>\n",
       "      <th>Valid. %error</th>\n",
       "    </tr>\n",
       "  </thead>\n",
       "  <tbody>\n",
       "    <tr>\n",
       "      <th>0</th>\n",
       "      <td>梁振英</td>\n",
       "      <td>0.238572</td>\n",
       "      <td>0.238442</td>\n",
       "      <td>0.238768</td>\n",
       "      <td>0.238768</td>\n",
       "      <td>-0.054651</td>\n",
       "      <td>0.081941</td>\n",
       "      <td>0.081941</td>\n",
       "    </tr>\n",
       "    <tr>\n",
       "      <th>1</th>\n",
       "      <td>美國大選</td>\n",
       "      <td>0.216230</td>\n",
       "      <td>0.216182</td>\n",
       "      <td>0.215661</td>\n",
       "      <td>0.216945</td>\n",
       "      <td>-0.022472</td>\n",
       "      <td>-0.263143</td>\n",
       "      <td>0.330529</td>\n",
       "    </tr>\n",
       "    <tr>\n",
       "      <th>2</th>\n",
       "      <td>足球</td>\n",
       "      <td>0.545198</td>\n",
       "      <td>0.545377</td>\n",
       "      <td>0.545571</td>\n",
       "      <td>0.544288</td>\n",
       "      <td>0.032827</td>\n",
       "      <td>0.068508</td>\n",
       "      <td>-0.166947</td>\n",
       "    </tr>\n",
       "  </tbody>\n",
       "</table>\n",
       "</div>"
      ],
      "text/plain": [
       "    Tag   Overall  Stratified Train  Stratified Test  Stratified Valid  \\\n",
       "0   梁振英  0.238572          0.238442         0.238768          0.238768   \n",
       "1  美國大選  0.216230          0.216182         0.215661          0.216945   \n",
       "2    足球  0.545198          0.545377         0.545571          0.544288   \n",
       "\n",
       "   Train. %error  Test. %error  Valid. %error  \n",
       "0      -0.054651      0.081941       0.081941  \n",
       "1      -0.022472     -0.263143       0.330529  \n",
       "2       0.032827      0.068508      -0.166947  "
      ]
     },
     "execution_count": 59,
     "metadata": {},
     "output_type": "execute_result"
    }
   ],
   "source": [
    "compare_props"
   ]
  },
  {
   "cell_type": "code",
   "execution_count": 62,
   "metadata": {},
   "outputs": [],
   "source": [
    "train_set.to_pickle(\"train_set.pkl\")\n",
    "strat_train_set.to_pickle('strat_train_set.pkl')\n",
    "strat_test_set.to_pickle('strat_test_set.pkl')\n",
    "strat_valid_set.to_pickle('strat_valid_set.pkl')"
   ]
  }
 ],
 "metadata": {
  "kernelspec": {
   "display_name": "Python 3",
   "language": "python",
   "name": "python3"
  },
  "language_info": {
   "codemirror_mode": {
    "name": "ipython",
    "version": 3
   },
   "file_extension": ".py",
   "mimetype": "text/x-python",
   "name": "python",
   "nbconvert_exporter": "python",
   "pygments_lexer": "ipython3",
   "version": "3.6.1"
  }
 },
 "nbformat": 4,
 "nbformat_minor": 2
}
